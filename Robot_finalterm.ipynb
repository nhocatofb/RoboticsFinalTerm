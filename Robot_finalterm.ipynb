{
  "cells": [
    {
      "cell_type": "code",
      "execution_count": 1,
      "metadata": {
        "colab": {
          "base_uri": "https://localhost:8080/"
        },
        "id": "oHHEyE-ioriB",
        "outputId": "9fdf2b3d-20ba-4437-cee9-6b2099f3f76f"
      },
      "outputs": [
        {
          "output_type": "stream",
          "name": "stdout",
          "text": [
            "Cloning into 'Recurrent-Independent-Mechanisms'...\n",
            "remote: Enumerating objects: 410, done.\u001b[K\n",
            "remote: Counting objects: 100% (158/158), done.\u001b[K\n",
            "remote: Compressing objects: 100% (13/13), done.\u001b[K\n",
            "remote: Total 410 (delta 152), reused 145 (delta 145), pack-reused 252\u001b[K\n",
            "Receiving objects: 100% (410/410), 22.77 MiB | 37.42 MiB/s, done.\n",
            "Resolving deltas: 100% (238/238), done.\n"
          ]
        }
      ],
      "source": [
        "!git clone https://github.com/dido1998/Recurrent-Independent-Mechanisms.git"
      ]
    },
    {
      "cell_type": "code",
      "execution_count": 2,
      "metadata": {
        "colab": {
          "base_uri": "https://localhost:8080/"
        },
        "id": "ATzMKWhvr28w",
        "outputId": "1e0d5ed7-74e3-461c-ab9d-63b05bfd327f"
      },
      "outputs": [
        {
          "output_type": "stream",
          "name": "stdout",
          "text": [
            "/content/Recurrent-Independent-Mechanisms\n"
          ]
        }
      ],
      "source": [
        "cd Recurrent-Independent-Mechanisms"
      ]
    },
    {
      "cell_type": "code",
      "execution_count": 3,
      "metadata": {
        "colab": {
          "base_uri": "https://localhost:8080/"
        },
        "id": "tx5sZq9OgEcg",
        "outputId": "14f5bff4-ef8b-4931-a8d5-a00895ba80d8"
      },
      "outputs": [
        {
          "output_type": "stream",
          "name": "stdout",
          "text": [
            "Looking in indexes: https://pypi.org/simple, https://us-python.pkg.dev/colab-wheels/public/simple/\n",
            "Obtaining file:///content/Recurrent-Independent-Mechanisms\n",
            "Requirement already satisfied: torch in /usr/local/lib/python3.7/dist-packages (from RIM==0.1.0) (1.11.0+cu113)\n",
            "Requirement already satisfied: numpy in /usr/local/lib/python3.7/dist-packages (from RIM==0.1.0) (1.21.6)\n",
            "Requirement already satisfied: typing-extensions in /usr/local/lib/python3.7/dist-packages (from torch->RIM==0.1.0) (4.2.0)\n",
            "Installing collected packages: RIM\n",
            "  Running setup.py develop for RIM\n",
            "Successfully installed RIM-0.1.0\n"
          ]
        }
      ],
      "source": [
        "pip install -e ."
      ]
    },
    {
      "cell_type": "code",
      "execution_count": 4,
      "metadata": {
        "colab": {
          "base_uri": "https://localhost:8080/"
        },
        "id": "xrhZ8rB4r_jf",
        "outputId": "ff164a90-a63e-4db6-f1f0-10383d79b465"
      },
      "outputs": [
        {
          "output_type": "stream",
          "name": "stdout",
          "text": [
            "/content/Recurrent-Independent-Mechanisms/minigrid_experiments\n"
          ]
        }
      ],
      "source": [
        "cd minigrid_experiments"
      ]
    },
    {
      "cell_type": "code",
      "execution_count": 5,
      "metadata": {
        "colab": {
          "base_uri": "https://localhost:8080/"
        },
        "id": "ooSdiKEKhtha",
        "outputId": "42a5d737-f2b1-4d82-862e-0b1b4cccbaaa"
      },
      "outputs": [
        {
          "output_type": "stream",
          "name": "stdout",
          "text": [
            "Looking in indexes: https://pypi.org/simple, https://us-python.pkg.dev/colab-wheels/public/simple/\n",
            "Collecting torch_ac\n",
            "  Downloading torch_ac-1.1.0-py3-none-any.whl (10 kB)\n",
            "Requirement already satisfied: numpy>=1.13.0 in /usr/local/lib/python3.7/dist-packages (from torch_ac) (1.21.6)\n",
            "Requirement already satisfied: torch>=1.0.0 in /usr/local/lib/python3.7/dist-packages (from torch_ac) (1.11.0+cu113)\n",
            "Requirement already satisfied: typing-extensions in /usr/local/lib/python3.7/dist-packages (from torch>=1.0.0->torch_ac) (4.2.0)\n",
            "Installing collected packages: torch-ac\n",
            "Successfully installed torch-ac-1.1.0\n"
          ]
        }
      ],
      "source": [
        "!pip install torch_ac"
      ]
    },
    {
      "cell_type": "code",
      "execution_count": 6,
      "metadata": {
        "colab": {
          "base_uri": "https://localhost:8080/"
        },
        "id": "ICaQnEoHiFMV",
        "outputId": "6118687d-2736-4c7e-cee9-c5e262ccc043"
      },
      "outputs": [
        {
          "output_type": "stream",
          "name": "stdout",
          "text": [
            "Looking in indexes: https://pypi.org/simple, https://us-python.pkg.dev/colab-wheels/public/simple/\n",
            "Collecting tensorboardX\n",
            "  Downloading tensorboardX-2.5.1-py2.py3-none-any.whl (125 kB)\n",
            "\u001b[K     |████████████████████████████████| 125 kB 5.1 MB/s \n",
            "\u001b[?25hRequirement already satisfied: numpy in /usr/local/lib/python3.7/dist-packages (from tensorboardX) (1.21.6)\n",
            "Requirement already satisfied: protobuf<=3.20.1,>=3.8.0 in /usr/local/lib/python3.7/dist-packages (from tensorboardX) (3.17.3)\n",
            "Requirement already satisfied: six>=1.9 in /usr/local/lib/python3.7/dist-packages (from protobuf<=3.20.1,>=3.8.0->tensorboardX) (1.15.0)\n",
            "Installing collected packages: tensorboardX\n",
            "Successfully installed tensorboardX-2.5.1\n"
          ]
        }
      ],
      "source": [
        "!pip install tensorboardX"
      ]
    },
    {
      "cell_type": "code",
      "execution_count": 7,
      "metadata": {
        "colab": {
          "base_uri": "https://localhost:8080/"
        },
        "id": "TKrvSaHnivqP",
        "outputId": "d4741988-2345-498e-baa5-22634078d147"
      },
      "outputs": [
        {
          "output_type": "stream",
          "name": "stdout",
          "text": [
            "Looking in indexes: https://pypi.org/simple, https://us-python.pkg.dev/colab-wheels/public/simple/\n",
            "Collecting gym_minigrid\n",
            "  Downloading gym_minigrid-1.0.3-py3-none-any.whl (48 kB)\n",
            "\u001b[K     |████████████████████████████████| 48 kB 2.3 MB/s \n",
            "\u001b[?25hRequirement already satisfied: numpy>=1.15.0 in /usr/local/lib/python3.7/dist-packages (from gym_minigrid) (1.21.6)\n",
            "Requirement already satisfied: gym>=0.9.6 in /usr/local/lib/python3.7/dist-packages (from gym_minigrid) (0.17.3)\n",
            "Requirement already satisfied: pyglet<=1.5.0,>=1.4.0 in /usr/local/lib/python3.7/dist-packages (from gym>=0.9.6->gym_minigrid) (1.5.0)\n",
            "Requirement already satisfied: cloudpickle<1.7.0,>=1.2.0 in /usr/local/lib/python3.7/dist-packages (from gym>=0.9.6->gym_minigrid) (1.3.0)\n",
            "Requirement already satisfied: scipy in /usr/local/lib/python3.7/dist-packages (from gym>=0.9.6->gym_minigrid) (1.4.1)\n",
            "Requirement already satisfied: future in /usr/local/lib/python3.7/dist-packages (from pyglet<=1.5.0,>=1.4.0->gym>=0.9.6->gym_minigrid) (0.16.0)\n",
            "Installing collected packages: gym-minigrid\n",
            "Successfully installed gym-minigrid-1.0.3\n"
          ]
        }
      ],
      "source": [
        "pip install gym_minigrid"
      ]
    },
    {
      "cell_type": "markdown",
      "source": [
        "change k in minigrid_expre/model.py line 49 to 4"
      ],
      "metadata": {
        "id": "Bmxt98Eegww-"
      }
    },
    {
      "cell_type": "code",
      "execution_count": 8,
      "metadata": {
        "colab": {
          "base_uri": "https://localhost:8080/"
        },
        "id": "NGUSA3J__KDJ",
        "outputId": "14f12a26-0cdb-41a6-f28f-47c17891a871"
      },
      "outputs": [
        {
          "output_type": "stream",
          "name": "stdout",
          "text": [
            "train.py --algo ppo --env MiniGrid-Empty-Random-5x5-v0 --model /model --use_rim --frames 80000\n",
            "\n",
            "Namespace(algo='ppo', batch_size=256, clip_eps=0.2, discount=0.99, entropy_coef=0.01, env='MiniGrid-Empty-Random-5x5-v0', epochs=4, frames=80000, frames_per_proc=128, gae_lambda=0.95, log_interval=1, lr=0.0001, max_grad_norm=0.5, mem=True, model='/model', optim_alpha=0.99, optim_eps=1e-08, procs=16, recurrence=32, save_interval=10, seed=1, text=False, use_rim=True, value_loss_coef=0.5)\n",
            "\n",
            "Device: cuda\n",
            "\n",
            "Environments loaded\n",
            "\n",
            "Training status loaded\n",
            "\n",
            "Observations preprocessor loaded\n",
            "Model loaded\n",
            "\n",
            "ACModel(\n",
            "  (image_conv): Sequential(\n",
            "    (0): Conv2d(3, 16, kernel_size=(2, 2), stride=(1, 1))\n",
            "    (1): ReLU()\n",
            "    (2): MaxPool2d(kernel_size=(2, 2), stride=(2, 2), padding=0, dilation=1, ceil_mode=False)\n",
            "    (3): Conv2d(16, 32, kernel_size=(2, 2), stride=(1, 1))\n",
            "    (4): ReLU()\n",
            "    (5): Conv2d(32, 64, kernel_size=(2, 2), stride=(1, 1))\n",
            "    (6): ReLU()\n",
            "  )\n",
            "  (memory_rnn): RIMCell(\n",
            "    (key): Linear(in_features=64, out_features=64, bias=True)\n",
            "    (value): Linear(in_features=64, out_features=64, bias=True)\n",
            "    (rnn): GroupLSTMCell(\n",
            "      (i2h): GroupLinearLayer()\n",
            "      (h2h): GroupLinearLayer()\n",
            "    )\n",
            "    (query): GroupLinearLayer()\n",
            "    (query_): GroupLinearLayer()\n",
            "    (key_): GroupLinearLayer()\n",
            "    (value_): GroupLinearLayer()\n",
            "    (comm_attention_output): GroupLinearLayer()\n",
            "    (comm_dropout): Dropout(p=0.1, inplace=False)\n",
            "    (input_dropout): Dropout(p=0.1, inplace=False)\n",
            "  )\n",
            "  (actor): Sequential(\n",
            "    (0): Linear(in_features=64, out_features=64, bias=True)\n",
            "    (1): Tanh()\n",
            "    (2): Linear(in_features=64, out_features=7, bias=True)\n",
            "  )\n",
            "  (critic): Sequential(\n",
            "    (0): Linear(in_features=64, out_features=64, bias=True)\n",
            "    (1): Tanh()\n",
            "    (2): Linear(in_features=64, out_features=1, bias=True)\n",
            "  )\n",
            ")\n",
            "\n",
            "Optimizer loaded\n",
            "\n",
            "U 1 | F 002048 | FPS 0234 | D 8 | rR:μσmM 0.57 0.38 0.00 0.99 | F:μσmM 45.2 38.1 1.0 100.0 | H 1.945 | V 0.127 | pL -0.055 | vL 0.028 | ∇ 0.054\n",
            "U 2 | F 004096 | FPS 0262 | D 16 | rR:μσmM 0.21 0.31 0.00 0.99 | F:μσmM 81.2 30.0 1.0 100.0 | H 1.944 | V 0.106 | pL 0.011 | vL 0.006 | ∇ 0.033\n",
            "U 3 | F 006144 | FPS 0241 | D 25 | rR:μσmM 0.43 0.36 0.00 0.98 | F:μσmM 59.8 36.0 2.0 100.0 | H 1.939 | V 0.153 | pL -0.044 | vL 0.023 | ∇ 0.070\n",
            "U 4 | F 008192 | FPS 0260 | D 32 | rR:μσmM 0.44 0.37 0.00 0.98 | F:μσmM 58.6 36.8 2.0 100.0 | H 1.926 | V 0.168 | pL -0.014 | vL 0.016 | ∇ 0.070\n",
            "U 5 | F 010240 | FPS 0261 | D 40 | rR:μσmM 0.47 0.38 0.00 0.97 | F:μσmM 54.7 38.1 3.0 100.0 | H 1.918 | V 0.190 | pL -0.033 | vL 0.026 | ∇ 0.091\n",
            "U 6 | F 012288 | FPS 0263 | D 48 | rR:μσmM 0.46 0.35 0.00 0.98 | F:μσmM 57.0 35.0 2.0 100.0 | H 1.904 | V 0.200 | pL -0.036 | vL 0.024 | ∇ 0.107\n",
            "U 7 | F 014336 | FPS 0262 | D 56 | rR:μσmM 0.45 0.38 0.00 0.98 | F:μσmM 57.8 38.5 2.0 100.0 | H 1.876 | V 0.195 | pL -0.007 | vL 0.019 | ∇ 0.076\n",
            "U 8 | F 016384 | FPS 0262 | D 64 | rR:μσmM 0.47 0.36 0.00 0.98 | F:μσmM 55.6 35.9 2.0 100.0 | H 1.886 | V 0.218 | pL -0.030 | vL 0.023 | ∇ 0.086\n",
            "U 9 | F 018432 | FPS 0264 | D 71 | rR:μσmM 0.43 0.31 0.00 0.97 | F:μσmM 60.4 31.5 3.0 100.0 | H 1.904 | V 0.240 | pL -0.011 | vL 0.017 | ∇ 0.096\n",
            "U 10 | F 020480 | FPS 0267 | D 79 | rR:μσmM 0.52 0.34 0.00 0.98 | F:μσmM 50.8 34.6 2.0 100.0 | H 1.899 | V 0.255 | pL -0.026 | vL 0.023 | ∇ 0.060\n",
            "Status saved\n",
            "U 11 | F 022528 | FPS 0261 | D 87 | rR:μσmM 0.51 0.33 0.00 0.99 | F:μσmM 52.6 33.7 1.0 100.0 | H 1.864 | V 0.259 | pL -0.007 | vL 0.019 | ∇ 0.091\n",
            "U 12 | F 024576 | FPS 0264 | D 95 | rR:μσmM 0.52 0.38 0.00 0.98 | F:μσmM 50.1 38.3 2.0 100.0 | H 1.837 | V 0.253 | pL -0.020 | vL 0.030 | ∇ 0.118\n",
            "U 13 | F 026624 | FPS 0264 | D 103 | rR:μσmM 0.52 0.34 0.00 0.99 | F:μσmM 50.7 34.8 1.0 100.0 | H 1.827 | V 0.249 | pL -0.023 | vL 0.024 | ∇ 0.121\n",
            "U 14 | F 028672 | FPS 0263 | D 110 | rR:μσmM 0.63 0.31 0.00 0.99 | F:μσmM 39.7 32.1 1.0 100.0 | H 1.840 | V 0.282 | pL -0.068 | vL 0.034 | ∇ 0.156\n",
            "U 15 | F 030720 | FPS 0265 | D 118 | rR:μσmM 0.63 0.28 0.00 0.99 | F:μσmM 39.5 28.2 1.0 100.0 | H 1.824 | V 0.348 | pL -0.045 | vL 0.022 | ∇ 0.084\n",
            "U 16 | F 032768 | FPS 0265 | D 126 | rR:μσmM 0.65 0.31 0.00 0.99 | F:μσmM 37.4 31.3 1.0 100.0 | H 1.797 | V 0.382 | pL -0.016 | vL 0.026 | ∇ 0.161\n",
            "U 17 | F 034816 | FPS 0264 | D 134 | rR:μσmM 0.72 0.26 0.00 0.99 | F:μσmM 30.3 26.5 1.0 100.0 | H 1.745 | V 0.451 | pL -0.052 | vL 0.028 | ∇ 0.131\n",
            "U 18 | F 036864 | FPS 0266 | D 141 | rR:μσmM 0.79 0.18 0.35 0.99 | F:μσmM 23.5 19.9 1.0 72.0 | H 1.727 | V 0.502 | pL -0.079 | vL 0.027 | ∇ 0.177\n",
            "U 19 | F 038912 | FPS 0265 | D 149 | rR:μσmM 0.78 0.19 0.12 0.99 | F:μσmM 24.3 21.5 1.0 98.0 | H 1.702 | V 0.556 | pL -0.065 | vL 0.027 | ∇ 0.193\n",
            "U 20 | F 040960 | FPS 0264 | D 157 | rR:μσmM 0.77 0.22 0.00 0.99 | F:μσmM 24.8 23.3 1.0 100.0 | H 1.708 | V 0.564 | pL 0.004 | vL 0.026 | ∇ 0.209\n",
            "Status saved\n",
            "U 21 | F 043008 | FPS 0262 | D 165 | rR:μσmM 0.80 0.21 0.00 0.99 | F:μσmM 22.0 22.1 1.0 100.0 | H 1.705 | V 0.573 | pL -0.019 | vL 0.024 | ∇ 0.192\n",
            "U 22 | F 045056 | FPS 0262 | D 172 | rR:μσmM 0.80 0.18 0.24 0.99 | F:μσmM 21.8 20.5 1.0 84.0 | H 1.749 | V 0.573 | pL 0.013 | vL 0.020 | ∇ 0.137\n",
            "U 23 | F 047104 | FPS 0266 | D 180 | rR:μσmM 0.80 0.19 0.00 0.99 | F:μσmM 22.3 20.5 1.0 100.0 | H 1.723 | V 0.577 | pL -0.019 | vL 0.021 | ∇ 0.191\n",
            "U 24 | F 049152 | FPS 0263 | D 188 | rR:μσmM 0.83 0.16 0.21 0.99 | F:μσmM 19.3 17.6 1.0 88.0 | H 1.715 | V 0.619 | pL -0.035 | vL 0.021 | ∇ 0.225\n",
            "U 25 | F 051200 | FPS 0264 | D 196 | rR:μσmM 0.85 0.14 0.35 0.99 | F:μσmM 17.0 16.0 1.0 72.0 | H 1.708 | V 0.657 | pL -0.026 | vL 0.019 | ∇ 0.176\n",
            "U 26 | F 053248 | FPS 0244 | D 204 | rR:μσmM 0.84 0.18 0.00 0.99 | F:μσmM 17.6 19.4 1.0 100.0 | H 1.696 | V 0.654 | pL 0.000 | vL 0.020 | ∇ 0.219\n",
            "U 27 | F 055296 | FPS 0264 | D 212 | rR:μσmM 0.86 0.13 0.42 0.99 | F:μσmM 16.0 13.9 1.0 64.0 | H 1.649 | V 0.656 | pL -0.040 | vL 0.018 | ∇ 0.199\n",
            "U 28 | F 057344 | FPS 0263 | D 220 | rR:μσmM 0.86 0.11 0.43 0.99 | F:μσmM 15.4 12.1 1.0 63.0 | H 1.628 | V 0.702 | pL -0.030 | vL 0.015 | ∇ 0.135\n",
            "U 29 | F 059392 | FPS 0263 | D 227 | rR:μσmM 0.84 0.15 0.26 0.99 | F:μσmM 17.4 16.3 1.0 82.0 | H 1.613 | V 0.662 | pL 0.027 | vL 0.015 | ∇ 0.212\n",
            "U 30 | F 061440 | FPS 0262 | D 235 | rR:μσmM 0.87 0.11 0.24 0.99 | F:μσmM 14.0 12.0 1.0 84.0 | H 1.561 | V 0.733 | pL -0.042 | vL 0.015 | ∇ 0.202\n",
            "Status saved\n",
            "U 31 | F 063488 | FPS 0259 | D 243 | rR:μσmM 0.87 0.11 0.46 0.99 | F:μσmM 14.4 11.9 1.0 60.0 | H 1.572 | V 0.732 | pL -0.010 | vL 0.013 | ∇ 0.208\n",
            "U 32 | F 065536 | FPS 0257 | D 251 | rR:μσmM 0.91 0.08 0.60 0.99 | F:μσmM 10.3 8.4 1.0 45.0 | H 1.509 | V 0.774 | pL -0.049 | vL 0.012 | ∇ 0.219\n",
            "U 33 | F 067584 | FPS 0259 | D 259 | rR:μσmM 0.91 0.07 0.71 0.99 | F:μσmM 10.0 7.4 1.0 32.0 | H 1.506 | V 0.799 | pL -0.027 | vL 0.009 | ∇ 0.110\n",
            "U 34 | F 069632 | FPS 0261 | D 267 | rR:μσmM 0.91 0.07 0.60 0.99 | F:μσmM 10.4 8.1 1.0 45.0 | H 1.491 | V 0.795 | pL -0.006 | vL 0.009 | ∇ 0.164\n",
            "U 35 | F 071680 | FPS 0260 | D 275 | rR:μσmM 0.91 0.07 0.50 0.99 | F:μσmM 10.3 7.9 1.0 56.0 | H 1.468 | V 0.802 | pL -0.011 | vL 0.009 | ∇ 0.139\n",
            "U 36 | F 073728 | FPS 0257 | D 283 | rR:μσmM 0.91 0.08 0.49 0.99 | F:μσmM 9.9 8.5 1.0 57.0 | H 1.470 | V 0.799 | pL -0.004 | vL 0.009 | ∇ 0.185\n",
            "U 37 | F 075776 | FPS 0258 | D 291 | rR:μσmM 0.92 0.06 0.70 0.99 | F:μσmM 8.9 6.2 1.0 33.0 | H 1.456 | V 0.822 | pL -0.014 | vL 0.007 | ∇ 0.099\n",
            "U 38 | F 077824 | FPS 0261 | D 299 | rR:μσmM 0.92 0.06 0.53 0.99 | F:μσmM 8.5 6.7 1.0 52.0 | H 1.446 | V 0.838 | pL -0.010 | vL 0.007 | ∇ 0.139\n",
            "U 39 | F 079872 | FPS 0257 | D 306 | rR:μσmM 0.92 0.06 0.66 0.99 | F:μσmM 8.9 6.6 1.0 38.0 | H 1.447 | V 0.820 | pL -0.003 | vL 0.007 | ∇ 0.143\n",
            "U 40 | F 081920 | FPS 0262 | D 314 | rR:μσmM 0.92 0.06 0.60 0.99 | F:μσmM 9.0 6.9 1.0 44.0 | H 1.424 | V 0.831 | pL 0.002 | vL 0.007 | ∇ 0.158\n",
            "Status saved\n"
          ]
        }
      ],
      "source": [
        "!python3 train.py --algo ppo --env MiniGrid-Empty-Random-5x5-v0 --model \"/model\" --use_rim --frames 80000"
      ]
    },
    {
      "cell_type": "code",
      "execution_count": 12,
      "metadata": {
        "colab": {
          "base_uri": "https://localhost:8080/"
        },
        "id": "HblDseLClqGK",
        "outputId": "4dde7c4c-4f43-49d0-faa8-c883617355f0"
      },
      "outputs": [
        {
          "output_type": "stream",
          "name": "stdout",
          "text": [
            "Device: cuda\n",
            "\n",
            "Environments loaded\n",
            "\n",
            "Agent loaded\n",
            "\n",
            "F 2472.0 | FPS 1467 | D 1 | R:μσmM 0.91 0.06 0.71 0.96 | F:μσmM 24.7 16.1 11.0 82.0\n",
            "\n",
            "10 worst episodes:\n",
            "- episode 38: R=0.711718738079071, F=82.0\n",
            "- episode 47: R=0.743359386920929, F=73.0\n",
            "- episode 31: R=0.7503906488418579, F=71.0\n",
            "- episode 28: R=0.760937511920929, F=68.0\n",
            "- episode 51: R=0.760937511920929, F=68.0\n",
            "- episode 43: R=0.7679687738418579, F=66.0\n",
            "- episode 62: R=0.782031238079071, F=62.0\n",
            "- episode 79: R=0.7855468988418579, F=61.0\n",
            "- episode 78: R=0.7890625, F=60.0\n",
            "- episode 92: R=0.82421875, F=50.0\n"
          ]
        }
      ],
      "source": [
        "!python3 evaluate.py --env MiniGrid-Empty-8x8-v0 --model \"/model\" --use_rim"
      ]
    },
    {
      "cell_type": "code",
      "execution_count": 10,
      "metadata": {
        "colab": {
          "base_uri": "https://localhost:8080/"
        },
        "id": "PsuAj_51n6YQ",
        "outputId": "c298124e-ad64-4cf5-ffab-ab7747d2f8d9"
      },
      "outputs": [
        {
          "output_type": "stream",
          "name": "stdout",
          "text": [
            "Looking in indexes: https://pypi.org/simple, https://us-python.pkg.dev/colab-wheels/public/simple/\n",
            "Collecting array2gif\n",
            "  Downloading array2gif-1.0.4-py3-none-any.whl (7.8 kB)\n",
            "Requirement already satisfied: numpy in /usr/local/lib/python3.7/dist-packages (from array2gif) (1.21.6)\n",
            "Installing collected packages: array2gif\n",
            "Successfully installed array2gif-1.0.4\n"
          ]
        }
      ],
      "source": [
        "pip install array2gif"
      ]
    },
    {
      "cell_type": "code",
      "execution_count": 13,
      "metadata": {
        "colab": {
          "base_uri": "https://localhost:8080/"
        },
        "id": "1xiYdk0RlUpm",
        "outputId": "e158c3d7-6ce2-493b-c665-31a87fb157ab"
      },
      "outputs": [
        {
          "output_type": "stream",
          "name": "stdout",
          "text": [
            "Device: cuda\n",
            "\n",
            "Environment loaded\n",
            "\n",
            "Agent loaded\n",
            "\n",
            "<Figure size 640x480 with 1 Axes>\n",
            "<Figure size 640x480 with 1 Axes>\n",
            "<Figure size 640x480 with 1 Axes>\n",
            "<Figure size 640x480 with 1 Axes>\n",
            "<Figure size 640x480 with 1 Axes>\n",
            "<Figure size 640x480 with 1 Axes>\n",
            "<Figure size 640x480 with 1 Axes>\n",
            "<Figure size 640x480 with 1 Axes>\n",
            "<Figure size 640x480 with 1 Axes>\n",
            "<Figure size 640x480 with 1 Axes>\n",
            "<Figure size 640x480 with 1 Axes>\n",
            "<Figure size 640x480 with 1 Axes>\n",
            "<Figure size 640x480 with 1 Axes>\n",
            "<Figure size 640x480 with 1 Axes>\n",
            "<Figure size 640x480 with 1 Axes>\n",
            "<Figure size 640x480 with 1 Axes>\n",
            "<Figure size 640x480 with 1 Axes>\n",
            "<Figure size 640x480 with 1 Axes>\n",
            "<Figure size 640x480 with 1 Axes>\n",
            "<Figure size 640x480 with 1 Axes>\n",
            "<Figure size 640x480 with 1 Axes>\n",
            "<Figure size 640x480 with 1 Axes>\n",
            "<Figure size 640x480 with 1 Axes>\n",
            "<Figure size 640x480 with 1 Axes>\n",
            "<Figure size 640x480 with 1 Axes>\n",
            "<Figure size 640x480 with 1 Axes>\n",
            "<Figure size 640x480 with 1 Axes>\n",
            "<Figure size 640x480 with 1 Axes>\n",
            "<Figure size 640x480 with 1 Axes>\n",
            "<Figure size 640x480 with 1 Axes>\n",
            "<Figure size 640x480 with 1 Axes>\n",
            "<Figure size 640x480 with 1 Axes>\n",
            "<Figure size 640x480 with 1 Axes>\n",
            "<Figure size 640x480 with 1 Axes>\n",
            "<Figure size 640x480 with 1 Axes>\n",
            "<Figure size 640x480 with 1 Axes>\n",
            "<Figure size 640x480 with 1 Axes>\n",
            "<Figure size 640x480 with 1 Axes>\n",
            "<Figure size 640x480 with 1 Axes>\n",
            "<Figure size 640x480 with 1 Axes>\n",
            "<Figure size 640x480 with 1 Axes>\n",
            "<Figure size 640x480 with 1 Axes>\n",
            "<Figure size 640x480 with 1 Axes>\n",
            "<Figure size 640x480 with 1 Axes>\n",
            "<Figure size 640x480 with 1 Axes>\n",
            "<Figure size 640x480 with 1 Axes>\n",
            "<Figure size 640x480 with 1 Axes>\n",
            "<Figure size 640x480 with 1 Axes>\n",
            "<Figure size 640x480 with 1 Axes>\n",
            "<Figure size 640x480 with 1 Axes>\n",
            "<Figure size 640x480 with 1 Axes>\n",
            "<Figure size 640x480 with 1 Axes>\n",
            "<Figure size 640x480 with 1 Axes>\n",
            "<Figure size 640x480 with 1 Axes>\n",
            "<Figure size 640x480 with 1 Axes>\n",
            "<Figure size 640x480 with 1 Axes>\n",
            "<Figure size 640x480 with 1 Axes>\n",
            "<Figure size 640x480 with 1 Axes>\n",
            "<Figure size 640x480 with 1 Axes>\n",
            "<Figure size 640x480 with 1 Axes>\n",
            "<Figure size 640x480 with 1 Axes>\n",
            "<Figure size 640x480 with 1 Axes>\n",
            "<Figure size 640x480 with 1 Axes>\n",
            "<Figure size 640x480 with 1 Axes>\n",
            "<Figure size 640x480 with 1 Axes>\n",
            "<Figure size 640x480 with 1 Axes>\n",
            "<Figure size 640x480 with 1 Axes>\n",
            "<Figure size 640x480 with 1 Axes>\n",
            "<Figure size 640x480 with 1 Axes>\n",
            "<Figure size 640x480 with 1 Axes>\n",
            "<Figure size 640x480 with 1 Axes>\n",
            "<Figure size 640x480 with 1 Axes>\n",
            "<Figure size 640x480 with 1 Axes>\n",
            "<Figure size 640x480 with 1 Axes>\n",
            "<Figure size 640x480 with 1 Axes>\n",
            "<Figure size 640x480 with 1 Axes>\n",
            "<Figure size 640x480 with 1 Axes>\n",
            "<Figure size 640x480 with 1 Axes>\n",
            "<Figure size 640x480 with 1 Axes>\n",
            "<Figure size 640x480 with 1 Axes>\n",
            "<Figure size 640x480 with 1 Axes>\n",
            "<Figure size 640x480 with 1 Axes>\n",
            "<Figure size 640x480 with 1 Axes>\n",
            "<Figure size 640x480 with 1 Axes>\n",
            "<Figure size 640x480 with 1 Axes>\n",
            "<Figure size 640x480 with 1 Axes>\n",
            "<Figure size 640x480 with 1 Axes>\n",
            "<Figure size 640x480 with 1 Axes>\n",
            "<Figure size 640x480 with 1 Axes>\n",
            "<Figure size 640x480 with 1 Axes>\n",
            "<Figure size 640x480 with 1 Axes>\n",
            "<Figure size 640x480 with 1 Axes>\n",
            "<Figure size 640x480 with 1 Axes>\n",
            "<Figure size 640x480 with 1 Axes>\n",
            "<Figure size 640x480 with 1 Axes>\n",
            "<Figure size 640x480 with 1 Axes>\n",
            "<Figure size 640x480 with 1 Axes>\n",
            "<Figure size 640x480 with 1 Axes>\n",
            "<Figure size 640x480 with 1 Axes>\n",
            "<Figure size 640x480 with 1 Axes>\n",
            "<Figure size 640x480 with 1 Axes>\n",
            "<Figure size 640x480 with 1 Axes>\n",
            "<Figure size 640x480 with 1 Axes>\n",
            "<Figure size 640x480 with 1 Axes>\n",
            "doneeee\n",
            "Saving gif... Done.\n"
          ]
        }
      ],
      "source": [
        "!python3 visualize.py --env MiniGrid-Empty-8x8-v0 --model \"/model\" --gif \"gif_file\" --use_rim"
      ]
    }
  ],
  "metadata": {
    "accelerator": "GPU",
    "colab": {
      "name": "Robot_finalterm",
      "provenance": []
    },
    "gpuClass": "standard",
    "kernelspec": {
      "display_name": "Python 3",
      "name": "python3"
    },
    "language_info": {
      "name": "python"
    }
  },
  "nbformat": 4,
  "nbformat_minor": 0
}