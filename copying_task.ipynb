{
  "cells": [
    {
      "cell_type": "code",
      "execution_count": 1,
      "metadata": {
        "id": "NnTVFRhYWf78"
      },
      "outputs": [],
      "source": [
        "import numpy\n",
        "import random"
      ]
    },
    {
      "cell_type": "code",
      "execution_count": 2,
      "metadata": {
        "id": "FrITMlbUWf7_"
      },
      "outputs": [],
      "source": [
        "def copying_data(T=30, n_data=300*64, n_sequence=10, batch_size=64, make_rand=False, shuffle=False, drop_last=False):\n",
        "    seq = numpy.random.randint(1, high=9, size=(n_data, n_sequence))\n",
        "    zeros1 = numpy.zeros((n_data, T-1))\n",
        "    zeros2 = numpy.zeros((n_data, T))\n",
        "    marker = 9 * numpy.ones((n_data, 1))\n",
        "    zeros3 = numpy.zeros((n_data, n_sequence))\n",
        "\n",
        "    x = numpy.concatenate((seq, zeros1, marker, zeros3), axis=1).astype('int32')\n",
        "    y = numpy.concatenate((zeros3, zeros2, seq), axis=1).astype('int64')\n",
        "\n",
        "    x = numpy.expand_dims(x, axis=-1)\n",
        "    y = numpy.expand_dims(y, axis=-1)\n",
        "    print(x.shape)\n",
        "    print(y.shape)\n",
        "    return x, y"
      ]
    },
    {
      "cell_type": "code",
      "execution_count": 3,
      "metadata": {
        "colab": {
          "base_uri": "https://localhost:8080/"
        },
        "id": "GROxS-FgWf8A",
        "outputId": "25f45345-fff8-4a38-ef05-eef8d4d977e0"
      },
      "outputs": [
        {
          "output_type": "stream",
          "name": "stdout",
          "text": [
            "(19200, 70, 1)\n",
            "(19200, 70, 1)\n",
            "(19200, 220, 1)\n",
            "(19200, 220, 1)\n"
          ]
        }
      ],
      "source": [
        "random.seed(1)\n",
        "\n",
        "train_x, train_y = copying_data(T=50)\n",
        "test_x, test_y   = copying_data(T=200)"
      ]
    },
    {
      "cell_type": "markdown",
      "metadata": {
        "id": "xUXDh_GWWf8B"
      },
      "source": [
        "# Model comparison"
      ]
    },
    {
      "cell_type": "code",
      "execution_count": 4,
      "metadata": {
        "id": "pJj0YY1HWf8C"
      },
      "outputs": [],
      "source": [
        "import tensorflow as tf\n",
        "from tensorflow.keras.layers import LSTMCell\n",
        "from tfRIM import RIMCell"
      ]
    },
    {
      "cell_type": "markdown",
      "metadata": {
        "id": "dqFbh6YJWf8C"
      },
      "source": [
        "## LSTM model"
      ]
    },
    {
      "cell_type": "code",
      "execution_count": 5,
      "metadata": {
        "id": "4kZlvcVsWf8C"
      },
      "outputs": [],
      "source": [
        "tf.random.set_seed(1234)\n",
        "lstmcell = LSTMCell(600)"
      ]
    },
    {
      "cell_type": "code",
      "execution_count": 6,
      "metadata": {
        "id": "hETm7Pl6Wf8D"
      },
      "outputs": [],
      "source": [
        "inputs = tf.keras.Input([None, 1])\n",
        "rnnout = tf.keras.layers.RNN(lstmcell, return_sequences=True)(inputs)\n",
        "seqout = tf.keras.layers.Dense(10, activation='softmax')(rnnout)\n",
        "output = seqout[:, -70:]\n",
        "opt = tf.keras.optimizers.Adam(learning_rate=0.001)\n",
        "cost = tf.keras.losses.SparseCategoricalCrossentropy()\n",
        "\n",
        "model_lstm = tf.keras.Model(inputs, output)\n",
        "model_lstm.compile(optimizer=opt, loss=cost)"
      ]
    },
    {
      "cell_type": "code",
      "execution_count": 7,
      "metadata": {
        "colab": {
          "base_uri": "https://localhost:8080/"
        },
        "id": "pzX-sD-4Wf8E",
        "outputId": "21f1b107-4f51-4f09-8ea3-7fd94a26d9e8"
      },
      "outputs": [
        {
          "output_type": "stream",
          "name": "stdout",
          "text": [
            "Epoch 1/10\n",
            "150/150 [==============================] - 13s 67ms/step - loss: 0.6428\n",
            "Epoch 2/10\n",
            "150/150 [==============================] - 10s 64ms/step - loss: 0.3683\n",
            "Epoch 3/10\n",
            "150/150 [==============================] - 9s 61ms/step - loss: 0.3279\n",
            "Epoch 4/10\n",
            "150/150 [==============================] - 9s 60ms/step - loss: 0.2978\n",
            "Epoch 5/10\n",
            "150/150 [==============================] - 9s 60ms/step - loss: 0.2938\n",
            "Epoch 6/10\n",
            "150/150 [==============================] - 9s 59ms/step - loss: 0.2923\n",
            "Epoch 7/10\n",
            "150/150 [==============================] - 9s 59ms/step - loss: 0.2917\n",
            "Epoch 8/10\n",
            "150/150 [==============================] - 9s 60ms/step - loss: 0.2912\n",
            "Epoch 9/10\n",
            "150/150 [==============================] - 9s 61ms/step - loss: 0.2910\n",
            "Epoch 10/10\n",
            "150/150 [==============================] - 9s 61ms/step - loss: 0.2892\n"
          ]
        },
        {
          "output_type": "execute_result",
          "data": {
            "text/plain": [
              "<keras.callbacks.History at 0x7f6f5078ab50>"
            ]
          },
          "metadata": {},
          "execution_count": 7
        }
      ],
      "source": [
        "tf.random.set_seed(1234)\n",
        "model_lstm.fit(train_x, train_y, batch_size=128, epochs=10)"
      ]
    },
    {
      "cell_type": "markdown",
      "metadata": {
        "id": "1bDm6mtcWf8E"
      },
      "source": [
        "## RIMs model"
      ]
    },
    {
      "cell_type": "code",
      "execution_count": 8,
      "metadata": {
        "id": "0cqH9XNdWf8E"
      },
      "outputs": [],
      "source": [
        "tf.random.set_seed(1234)\n",
        "rimcell = RIMCell(units=100, nRIM=6, k=4,\n",
        "                num_input_heads=1, input_key_size=32, input_value_size=32, input_query_size=32, input_keep_prob=0.9,\n",
        "                num_comm_heads=4, comm_key_size=32, comm_value_size=32, comm_query_size=32, comm_keep_prob=0.9)"
      ]
    },
    {
      "cell_type": "code",
      "execution_count": 9,
      "metadata": {
        "id": "nmORB_lOWf8F"
      },
      "outputs": [],
      "source": [
        "inputs = tf.keras.Input([None, 1])\n",
        "rnnout = tf.keras.layers.RNN(rimcell, return_sequences=True)(inputs)\n",
        "seqout = tf.keras.layers.Dense(10, activation='softmax')(rnnout)\n",
        "output = seqout[:, -70:]\n",
        "opt = tf.keras.optimizers.Adam(learning_rate=0.001)\n",
        "cost = tf.keras.losses.SparseCategoricalCrossentropy()\n",
        "\n",
        "model_rims = tf.keras.Model(inputs, output)\n",
        "model_rims.compile(optimizer=opt, loss=cost)"
      ]
    },
    {
      "cell_type": "code",
      "execution_count": 10,
      "metadata": {
        "colab": {
          "base_uri": "https://localhost:8080/"
        },
        "id": "Hp9n4zbYWf8F",
        "outputId": "f71beb5f-602b-4a7a-92ee-706cd1599e06"
      },
      "outputs": [
        {
          "output_type": "stream",
          "name": "stdout",
          "text": [
            "Epoch 1/10\n",
            "150/150 [==============================] - 35s 216ms/step - loss: 0.8074\n",
            "Epoch 2/10\n",
            "150/150 [==============================] - 33s 219ms/step - loss: 0.3484\n",
            "Epoch 3/10\n",
            "150/150 [==============================] - 32s 216ms/step - loss: 0.3002\n",
            "Epoch 4/10\n",
            "150/150 [==============================] - 32s 215ms/step - loss: 0.2973\n",
            "Epoch 5/10\n",
            "150/150 [==============================] - 32s 214ms/step - loss: 0.3309\n",
            "Epoch 6/10\n",
            "150/150 [==============================] - 33s 219ms/step - loss: 0.3009\n",
            "Epoch 7/10\n",
            "150/150 [==============================] - 32s 215ms/step - loss: 0.2969\n",
            "Epoch 8/10\n",
            "150/150 [==============================] - 33s 219ms/step - loss: 0.2948\n",
            "Epoch 9/10\n",
            "150/150 [==============================] - 32s 216ms/step - loss: 0.2985\n",
            "Epoch 10/10\n",
            "150/150 [==============================] - 32s 215ms/step - loss: 0.2981\n"
          ]
        },
        {
          "output_type": "execute_result",
          "data": {
            "text/plain": [
              "<keras.callbacks.History at 0x7f6f5010f690>"
            ]
          },
          "metadata": {},
          "execution_count": 10
        }
      ],
      "source": [
        "tf.random.set_seed(1234)\n",
        "model_rims.fit(train_x, train_y, batch_size=128, epochs=10) "
      ]
    },
    {
      "cell_type": "markdown",
      "metadata": {
        "id": "jubbrNgDWf8F"
      },
      "source": [
        "## Evaluate"
      ]
    },
    {
      "cell_type": "markdown",
      "metadata": {
        "id": "8Azzi5PcWf8F"
      },
      "source": [
        "#### In sample prediction"
      ]
    },
    {
      "cell_type": "code",
      "execution_count": 11,
      "metadata": {
        "colab": {
          "base_uri": "https://localhost:8080/",
          "height": 395
        },
        "id": "eOlt3EvNWf8F",
        "outputId": "c1446ba1-061e-4e90-e199-addfdccefbb6"
      },
      "outputs": [
        {
          "output_type": "error",
          "ename": "ValueError",
          "evalue": "ignored",
          "traceback": [
            "\u001b[0;31m---------------------------------------------------------------------------\u001b[0m",
            "\u001b[0;31mValueError\u001b[0m                                Traceback (most recent call last)",
            "\u001b[0;32m<ipython-input-11-2981cfb679b7>\u001b[0m in \u001b[0;36m<module>\u001b[0;34m()\u001b[0m\n\u001b[1;32m      4\u001b[0m \u001b[0mcost\u001b[0m \u001b[0;34m=\u001b[0m \u001b[0mtf\u001b[0m\u001b[0;34m.\u001b[0m\u001b[0mkeras\u001b[0m\u001b[0;34m.\u001b[0m\u001b[0mlosses\u001b[0m\u001b[0;34m.\u001b[0m\u001b[0mSparseCategoricalCrossentropy\u001b[0m\u001b[0;34m(\u001b[0m\u001b[0;34m)\u001b[0m\u001b[0;34m\u001b[0m\u001b[0;34m\u001b[0m\u001b[0m\n\u001b[1;32m      5\u001b[0m \u001b[0;34m\u001b[0m\u001b[0m\n\u001b[0;32m----> 6\u001b[0;31m \u001b[0mce_train_lstm\u001b[0m \u001b[0;34m=\u001b[0m \u001b[0mcost\u001b[0m\u001b[0;34m(\u001b[0m\u001b[0mtrain_y\u001b[0m\u001b[0;34m[\u001b[0m\u001b[0;34m:\u001b[0m\u001b[0;34m,\u001b[0m\u001b[0;34m-\u001b[0m\u001b[0;36m10\u001b[0m\u001b[0;34m:\u001b[0m\u001b[0;34m]\u001b[0m\u001b[0;34m,\u001b[0m \u001b[0mypred1_lstm\u001b[0m\u001b[0;34m)\u001b[0m\u001b[0;34m\u001b[0m\u001b[0;34m\u001b[0m\u001b[0m\n\u001b[0m\u001b[1;32m      7\u001b[0m \u001b[0mce_train_rims\u001b[0m \u001b[0;34m=\u001b[0m \u001b[0mcost\u001b[0m\u001b[0;34m(\u001b[0m\u001b[0mtrain_y\u001b[0m\u001b[0;34m[\u001b[0m\u001b[0;34m:\u001b[0m\u001b[0;34m,\u001b[0m\u001b[0;34m-\u001b[0m\u001b[0;36m10\u001b[0m\u001b[0;34m:\u001b[0m\u001b[0;34m]\u001b[0m\u001b[0;34m,\u001b[0m \u001b[0mypred1_rims\u001b[0m\u001b[0;34m)\u001b[0m\u001b[0;34m\u001b[0m\u001b[0;34m\u001b[0m\u001b[0m\n\u001b[1;32m      8\u001b[0m \u001b[0;34m\u001b[0m\u001b[0m\n",
            "\u001b[0;32m/usr/local/lib/python3.7/dist-packages/keras/losses.py\u001b[0m in \u001b[0;36m__call__\u001b[0;34m(self, y_true, y_pred, sample_weight)\u001b[0m\n\u001b[1;32m    139\u001b[0m       \u001b[0;32melse\u001b[0m\u001b[0;34m:\u001b[0m\u001b[0;34m\u001b[0m\u001b[0;34m\u001b[0m\u001b[0m\n\u001b[1;32m    140\u001b[0m         \u001b[0mcall_fn\u001b[0m \u001b[0;34m=\u001b[0m \u001b[0mtf\u001b[0m\u001b[0;34m.\u001b[0m\u001b[0m__internal__\u001b[0m\u001b[0;34m.\u001b[0m\u001b[0mautograph\u001b[0m\u001b[0;34m.\u001b[0m\u001b[0mtf_convert\u001b[0m\u001b[0;34m(\u001b[0m\u001b[0mself\u001b[0m\u001b[0;34m.\u001b[0m\u001b[0mcall\u001b[0m\u001b[0;34m,\u001b[0m \u001b[0mtf\u001b[0m\u001b[0;34m.\u001b[0m\u001b[0m__internal__\u001b[0m\u001b[0;34m.\u001b[0m\u001b[0mautograph\u001b[0m\u001b[0;34m.\u001b[0m\u001b[0mcontrol_status_ctx\u001b[0m\u001b[0;34m(\u001b[0m\u001b[0;34m)\u001b[0m\u001b[0;34m)\u001b[0m\u001b[0;34m\u001b[0m\u001b[0;34m\u001b[0m\u001b[0m\n\u001b[0;32m--> 141\u001b[0;31m       \u001b[0mlosses\u001b[0m \u001b[0;34m=\u001b[0m \u001b[0mcall_fn\u001b[0m\u001b[0;34m(\u001b[0m\u001b[0my_true\u001b[0m\u001b[0;34m,\u001b[0m \u001b[0my_pred\u001b[0m\u001b[0;34m)\u001b[0m\u001b[0;34m\u001b[0m\u001b[0;34m\u001b[0m\u001b[0m\n\u001b[0m\u001b[1;32m    142\u001b[0m       return losses_utils.compute_weighted_loss(\n\u001b[1;32m    143\u001b[0m           losses, sample_weight, reduction=self._get_reduction())\n",
            "\u001b[0;32m/usr/local/lib/python3.7/dist-packages/keras/losses.py\u001b[0m in \u001b[0;36mcall\u001b[0;34m(self, y_true, y_pred)\u001b[0m\n\u001b[1;32m    243\u001b[0m \u001b[0;34m\u001b[0m\u001b[0m\n\u001b[1;32m    244\u001b[0m     \u001b[0mag_fn\u001b[0m \u001b[0;34m=\u001b[0m \u001b[0mtf\u001b[0m\u001b[0;34m.\u001b[0m\u001b[0m__internal__\u001b[0m\u001b[0;34m.\u001b[0m\u001b[0mautograph\u001b[0m\u001b[0;34m.\u001b[0m\u001b[0mtf_convert\u001b[0m\u001b[0;34m(\u001b[0m\u001b[0mself\u001b[0m\u001b[0;34m.\u001b[0m\u001b[0mfn\u001b[0m\u001b[0;34m,\u001b[0m \u001b[0mtf\u001b[0m\u001b[0;34m.\u001b[0m\u001b[0m__internal__\u001b[0m\u001b[0;34m.\u001b[0m\u001b[0mautograph\u001b[0m\u001b[0;34m.\u001b[0m\u001b[0mcontrol_status_ctx\u001b[0m\u001b[0;34m(\u001b[0m\u001b[0;34m)\u001b[0m\u001b[0;34m)\u001b[0m\u001b[0;34m\u001b[0m\u001b[0;34m\u001b[0m\u001b[0m\n\u001b[0;32m--> 245\u001b[0;31m     \u001b[0;32mreturn\u001b[0m \u001b[0mag_fn\u001b[0m\u001b[0;34m(\u001b[0m\u001b[0my_true\u001b[0m\u001b[0;34m,\u001b[0m \u001b[0my_pred\u001b[0m\u001b[0;34m,\u001b[0m \u001b[0;34m**\u001b[0m\u001b[0mself\u001b[0m\u001b[0;34m.\u001b[0m\u001b[0m_fn_kwargs\u001b[0m\u001b[0;34m)\u001b[0m\u001b[0;34m\u001b[0m\u001b[0;34m\u001b[0m\u001b[0m\n\u001b[0m\u001b[1;32m    246\u001b[0m \u001b[0;34m\u001b[0m\u001b[0m\n\u001b[1;32m    247\u001b[0m   \u001b[0;32mdef\u001b[0m \u001b[0mget_config\u001b[0m\u001b[0;34m(\u001b[0m\u001b[0mself\u001b[0m\u001b[0;34m)\u001b[0m\u001b[0;34m:\u001b[0m\u001b[0;34m\u001b[0m\u001b[0;34m\u001b[0m\u001b[0m\n",
            "\u001b[0;32m/usr/local/lib/python3.7/dist-packages/tensorflow/python/util/traceback_utils.py\u001b[0m in \u001b[0;36merror_handler\u001b[0;34m(*args, **kwargs)\u001b[0m\n\u001b[1;32m    151\u001b[0m     \u001b[0;32mexcept\u001b[0m \u001b[0mException\u001b[0m \u001b[0;32mas\u001b[0m \u001b[0me\u001b[0m\u001b[0;34m:\u001b[0m\u001b[0;34m\u001b[0m\u001b[0;34m\u001b[0m\u001b[0m\n\u001b[1;32m    152\u001b[0m       \u001b[0mfiltered_tb\u001b[0m \u001b[0;34m=\u001b[0m \u001b[0m_process_traceback_frames\u001b[0m\u001b[0;34m(\u001b[0m\u001b[0me\u001b[0m\u001b[0;34m.\u001b[0m\u001b[0m__traceback__\u001b[0m\u001b[0;34m)\u001b[0m\u001b[0;34m\u001b[0m\u001b[0;34m\u001b[0m\u001b[0m\n\u001b[0;32m--> 153\u001b[0;31m       \u001b[0;32mraise\u001b[0m \u001b[0me\u001b[0m\u001b[0;34m.\u001b[0m\u001b[0mwith_traceback\u001b[0m\u001b[0;34m(\u001b[0m\u001b[0mfiltered_tb\u001b[0m\u001b[0;34m)\u001b[0m \u001b[0;32mfrom\u001b[0m \u001b[0;32mNone\u001b[0m\u001b[0;34m\u001b[0m\u001b[0;34m\u001b[0m\u001b[0m\n\u001b[0m\u001b[1;32m    154\u001b[0m     \u001b[0;32mfinally\u001b[0m\u001b[0;34m:\u001b[0m\u001b[0;34m\u001b[0m\u001b[0;34m\u001b[0m\u001b[0m\n\u001b[1;32m    155\u001b[0m       \u001b[0;32mdel\u001b[0m \u001b[0mfiltered_tb\u001b[0m\u001b[0;34m\u001b[0m\u001b[0;34m\u001b[0m\u001b[0m\n",
            "\u001b[0;32m/usr/local/lib/python3.7/dist-packages/keras/losses.py\u001b[0m in \u001b[0;36msparse_categorical_crossentropy\u001b[0;34m(y_true, y_pred, from_logits, axis)\u001b[0m\n\u001b[1;32m   1861\u001b[0m \u001b[0;34m\u001b[0m\u001b[0m\n\u001b[1;32m   1862\u001b[0m   return backend.sparse_categorical_crossentropy(\n\u001b[0;32m-> 1863\u001b[0;31m       y_true, y_pred, from_logits=from_logits, axis=axis)\n\u001b[0m\u001b[1;32m   1864\u001b[0m \u001b[0;34m\u001b[0m\u001b[0m\n\u001b[1;32m   1865\u001b[0m \u001b[0;34m\u001b[0m\u001b[0m\n",
            "\u001b[0;32m/usr/local/lib/python3.7/dist-packages/keras/backend.py\u001b[0m in \u001b[0;36msparse_categorical_crossentropy\u001b[0;34m(target, output, from_logits, axis)\u001b[0m\n\u001b[1;32m   5204\u001b[0m   \u001b[0;32melse\u001b[0m\u001b[0;34m:\u001b[0m\u001b[0;34m\u001b[0m\u001b[0;34m\u001b[0m\u001b[0m\n\u001b[1;32m   5205\u001b[0m     res = tf.nn.sparse_softmax_cross_entropy_with_logits(\n\u001b[0;32m-> 5206\u001b[0;31m         labels=target, logits=output)\n\u001b[0m\u001b[1;32m   5207\u001b[0m \u001b[0;34m\u001b[0m\u001b[0m\n\u001b[1;32m   5208\u001b[0m   \u001b[0;32mif\u001b[0m \u001b[0mupdate_shape\u001b[0m \u001b[0;32mand\u001b[0m \u001b[0moutput_rank\u001b[0m \u001b[0;34m>=\u001b[0m \u001b[0;36m3\u001b[0m\u001b[0;34m:\u001b[0m\u001b[0;34m\u001b[0m\u001b[0;34m\u001b[0m\u001b[0m\n",
            "\u001b[0;31mValueError\u001b[0m: `labels.shape` must equal `logits.shape` except for the last dimension. Received: labels.shape=(192000,) and logits.shape=(1344000, 10)"
          ]
        }
      ],
      "source": [
        "ypred1_lstm = model_lstm.predict(train_x)\n",
        "ypred1_rims = model_rims.predict(train_x)\n",
        "\n",
        "cost = tf.keras.losses.SparseCategoricalCrossentropy()"
      ]
    },
    {
      "cell_type": "code",
      "source": [
        "ce_train_lstm = cost(train_y[:,-70:], ypred1_lstm)\n",
        "ce_train_rims = cost(train_y[:,-70:], ypred1_rims)\n",
        "\n",
        "ac_train_lstm = (numpy.argmax(ypred1_lstm, axis=-1) == train_y[:,-70:,0]).mean()\n",
        "ac_train_rims = (numpy.argmax(ypred1_rims, axis=-1) == train_y[:,-70:,0]).mean()"
      ],
      "metadata": {
        "id": "pwvYG5_xcB62"
      },
      "execution_count": 12,
      "outputs": []
    },
    {
      "cell_type": "code",
      "execution_count": 13,
      "metadata": {
        "colab": {
          "base_uri": "https://localhost:8080/"
        },
        "id": "3AOoLY3MWf8G",
        "outputId": "11a2b088-f56f-4c55-d5d7-4e0f8470d78f"
      },
      "outputs": [
        {
          "output_type": "execute_result",
          "data": {
            "text/plain": [
              "(<tf.Tensor: shape=(), dtype=float32, numpy=0.28548497>,\n",
              " <tf.Tensor: shape=(), dtype=float32, numpy=0.2966531>)"
            ]
          },
          "metadata": {},
          "execution_count": 13
        }
      ],
      "source": [
        "ce_train_lstm, ce_train_rims"
      ]
    },
    {
      "cell_type": "code",
      "execution_count": 14,
      "metadata": {
        "colab": {
          "base_uri": "https://localhost:8080/"
        },
        "id": "xIgz9yAAWf8G",
        "outputId": "2a2b57c5-93b0-470e-9068-addc02d19904"
      },
      "outputs": [
        {
          "output_type": "execute_result",
          "data": {
            "text/plain": [
              "(0.8844575892857143, 0.8781629464285714)"
            ]
          },
          "metadata": {},
          "execution_count": 14
        }
      ],
      "source": [
        "ac_train_lstm, ac_train_rims"
      ]
    },
    {
      "cell_type": "markdown",
      "metadata": {
        "id": "JEaMKUsKWf8G"
      },
      "source": [
        "#### Out of sample prediction"
      ]
    },
    {
      "cell_type": "code",
      "execution_count": 15,
      "metadata": {
        "id": "5LyXl8cGWf8G"
      },
      "outputs": [],
      "source": [
        "ypred2_lstm = model_lstm.predict(test_x)\n",
        "ypred2_rims = model_rims.predict(test_x)\n",
        "\n",
        "cost = tf.keras.losses.SparseCategoricalCrossentropy()\n",
        "\n",
        "ce_test_lstm = cost(test_y[:,-70:], ypred2_lstm)\n",
        "ce_test_rims = cost(test_y[:,-70:], ypred2_rims)\n",
        "\n",
        "ac_test_lstm = (numpy.argmax(ypred2_lstm, axis=-1) == test_y[:,-70:,0]).mean()\n",
        "ac_test_rims = (numpy.argmax(ypred2_rims, axis=-1) == test_y[:,-70:,0]).mean()"
      ]
    },
    {
      "cell_type": "code",
      "execution_count": 16,
      "metadata": {
        "colab": {
          "base_uri": "https://localhost:8080/"
        },
        "id": "X9fRIZFgWf8G",
        "outputId": "8a1c91bb-d22f-4d21-904c-9334a3e74966"
      },
      "outputs": [
        {
          "output_type": "execute_result",
          "data": {
            "text/plain": [
              "(<tf.Tensor: shape=(), dtype=float32, numpy=10.653892>,\n",
              " <tf.Tensor: shape=(), dtype=float32, numpy=0.296768>)"
            ]
          },
          "metadata": {},
          "execution_count": 16
        }
      ],
      "source": [
        "ce_test_lstm, ce_test_rims"
      ]
    },
    {
      "cell_type": "code",
      "execution_count": 17,
      "metadata": {
        "colab": {
          "base_uri": "https://localhost:8080/"
        },
        "id": "J90tG9R7Wf8H",
        "outputId": "193aea1c-872b-4ff3-dd1e-6aab067d7f5f"
      },
      "outputs": [
        {
          "output_type": "execute_result",
          "data": {
            "text/plain": [
              "(0.03215327380952381, 0.8752113095238095)"
            ]
          },
          "metadata": {},
          "execution_count": 17
        }
      ],
      "source": [
        "ac_test_lstm, ac_test_rims"
      ]
    }
  ],
  "metadata": {
    "kernelspec": {
      "display_name": "Python 3",
      "language": "python",
      "name": "python3"
    },
    "language_info": {
      "codemirror_mode": {
        "name": "ipython",
        "version": 3
      },
      "file_extension": ".py",
      "mimetype": "text/x-python",
      "name": "python",
      "nbconvert_exporter": "python",
      "pygments_lexer": "ipython3",
      "version": "3.7.4"
    },
    "colab": {
      "name": "copying_task.ipynb",
      "provenance": []
    },
    "accelerator": "GPU",
    "gpuClass": "standard"
  },
  "nbformat": 4,
  "nbformat_minor": 0
}